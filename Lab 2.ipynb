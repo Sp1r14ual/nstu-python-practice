{
 "cells": [
  {
   "cell_type": "markdown",
   "id": "0b4b2cc5",
   "metadata": {},
   "source": [
    "# Лабораторная работа 1.2"
   ]
  },
  {
   "cell_type": "markdown",
   "id": "6e65b632",
   "metadata": {},
   "source": [
    "## Задание 1"
   ]
  },
  {
   "cell_type": "code",
   "execution_count": 3,
   "id": "3228532a",
   "metadata": {},
   "outputs": [],
   "source": [
    "import numpy as np\n",
    "import matplotlib.pyplot as plt\n",
    "from matplotlib import cm\n",
    "from matplotlib.ticker import LinearLocator\n",
    "from ipywidgets import *"
   ]
  },
  {
   "cell_type": "code",
   "execution_count": 4,
   "id": "d9df8550",
   "metadata": {},
   "outputs": [],
   "source": [
    "def create_A(N):\n",
    "    matrix = list()\n",
    "    for i in range(N):\n",
    "        for j in range(N):\n",
    "            if j == 0:\n",
    "                matrix.append([])\n",
    "            matrix[i].append(float(input(f\"Введите элемент {i + 1} - {j + 1} матрицы A: \")))\n",
    "    return matrix"
   ]
  },
  {
   "cell_type": "code",
   "execution_count": 5,
   "id": "0dfe4e8c",
   "metadata": {},
   "outputs": [],
   "source": [
    "def create_b(N):\n",
    "    vector = list()\n",
    "    for i in range(N):\n",
    "        vector.append(float(input(f\"Введите элемент {i + 1} вектора b: \")))\n",
    "    return vector"
   ]
  },
  {
   "cell_type": "code",
   "execution_count": 6,
   "id": "36bb4d0d",
   "metadata": {},
   "outputs": [],
   "source": [
    "def solve(A, b):\n",
    "    return np.linalg.solve(A, b)"
   ]
  },
  {
   "cell_type": "code",
   "execution_count": 7,
   "id": "ac1a8a8a",
   "metadata": {},
   "outputs": [],
   "source": [
    "def check_solution(A, x, b):\n",
    "    return np.allclose(A@x, b)"
   ]
  },
  {
   "cell_type": "code",
   "execution_count": 14,
   "id": "100a9f8b",
   "metadata": {},
   "outputs": [],
   "source": [
    "def calc_error(x, x0):\n",
    "    return (x - x0).tolist()"
   ]
  },
  {
   "cell_type": "markdown",
   "id": "f6f5cdf0",
   "metadata": {},
   "source": [
    "Пусть имеется система линейных алгебраических уравнений<br>\n",
    "$ 2x_{1}+x_{2}+x_{3}=2$<br>\n",
    "$ x_{1}-x_{2}=-2$<br>\n",
    "$ 3x_{1}-x_{2}+2x_{3}=2$<br>\n",
    "Найдём вектор решений"
   ]
  },
  {
   "cell_type": "code",
   "execution_count": 9,
   "id": "43ac85da",
   "metadata": {},
   "outputs": [
    {
     "name": "stdout",
     "output_type": "stream",
     "text": [
      "Введите элемент 1 - 1 матрицы A: 2\n",
      "Введите элемент 1 - 2 матрицы A: 1\n",
      "Введите элемент 1 - 3 матрицы A: 1\n",
      "Введите элемент 2 - 1 матрицы A: 1\n",
      "Введите элемент 2 - 2 матрицы A: -1\n",
      "Введите элемент 2 - 3 матрицы A: 0\n",
      "Введите элемент 3 - 1 матрицы A: 3\n",
      "Введите элемент 3 - 2 матрицы A: -1\n",
      "Введите элемент 3 - 3 матрицы A: 2\n",
      "Введите элемент 1 вектора b: 2\n",
      "Введите элемент 2 вектора b: -2\n",
      "Введите элемент 3 вектора b: 2\n"
     ]
    }
   ],
   "source": [
    "A = np.array(create_A(3))\n",
    "b = np.array(create_b(3))\n",
    "x0 = solve(A, b)"
   ]
  },
  {
   "cell_type": "code",
   "execution_count": 10,
   "id": "46178779",
   "metadata": {},
   "outputs": [
    {
     "name": "stdout",
     "output_type": "stream",
     "text": [
      "x0: [-1.  1.  3.]\n",
      "Solution is Correct: True\n"
     ]
    }
   ],
   "source": [
    "print('x0:', x0)\n",
    "print('Solution is Correct:', check_solution(A, x0, b))"
   ]
  },
  {
   "cell_type": "markdown",
   "id": "4ebe9583",
   "metadata": {},
   "source": [
    "Нашли вектор решений $x_{0}$. Теперь вычислим невязку"
   ]
  },
  {
   "cell_type": "code",
   "execution_count": 15,
   "id": "07c715b0",
   "metadata": {},
   "outputs": [
    {
     "name": "stdout",
     "output_type": "stream",
     "text": [
      "Calculation Error:  [0.0, 0.0, 0.0]\n"
     ]
    }
   ],
   "source": [
    "x = np.array([-1, 1, 3])\n",
    "print('Calculation Error: ', calc_error(x, x0))"
   ]
  },
  {
   "cell_type": "markdown",
   "id": "81d124e1",
   "metadata": {},
   "source": [
    "## Задание 2"
   ]
  },
  {
   "cell_type": "code",
   "execution_count": null,
   "id": "1fb15a4b",
   "metadata": {},
   "outputs": [],
   "source": [
    "matrix = np.loadtxt('./matrix.csv', dtype='int', delimiter=';')"
   ]
  },
  {
   "cell_type": "code",
   "execution_count": null,
   "id": "964c1ffe",
   "metadata": {},
   "outputs": [],
   "source": [
    "matrix_transported = matrix.T"
   ]
  },
  {
   "cell_type": "code",
   "execution_count": null,
   "id": "2f7fa962",
   "metadata": {},
   "outputs": [],
   "source": [
    "np.savetxt('./output.csv', matrix_transported, delimiter=';')"
   ]
  },
  {
   "cell_type": "markdown",
   "id": "266f3755",
   "metadata": {},
   "source": [
    "### To-do: пофиксить экспоненциальный формат чисел в выходном файле"
   ]
  },
  {
   "cell_type": "markdown",
   "id": "0c41d0ed",
   "metadata": {},
   "source": [
    "## Задание 3"
   ]
  },
  {
   "cell_type": "markdown",
   "id": "a4ba752d",
   "metadata": {},
   "source": [
    "Пусть имеется полином \n",
    "$f(x) = x^{3} + 2x^{2} - 5x - 6$<br>\n",
    "Построим его график инструментами matplotlib"
   ]
  },
  {
   "cell_type": "code",
   "execution_count": null,
   "id": "0b9b116c",
   "metadata": {},
   "outputs": [],
   "source": [
    "f = lambda x: x**3 + 2*x**2 - 5*x - 6"
   ]
  },
  {
   "cell_type": "code",
   "execution_count": null,
   "id": "b738dfad",
   "metadata": {},
   "outputs": [],
   "source": [
    "x = np.linspace(0, 100, 10000)\n",
    "y = f(x)"
   ]
  },
  {
   "cell_type": "code",
   "execution_count": null,
   "id": "33fc98d4",
   "metadata": {},
   "outputs": [],
   "source": [
    "plt.plot(x, y)"
   ]
  },
  {
   "cell_type": "markdown",
   "id": "206c0934",
   "metadata": {},
   "source": [
    "Найдем корни полинома $f(x)$."
   ]
  },
  {
   "cell_type": "code",
   "execution_count": null,
   "id": "bb18377b",
   "metadata": {},
   "outputs": [],
   "source": [
    "coeff = [1, 2, -5, -6]\n",
    "np.roots(coeff)"
   ]
  },
  {
   "cell_type": "markdown",
   "id": "973546e5",
   "metadata": {},
   "source": [
    "Теперь для демонстрации возможностей библиотеки построим несколько графиков в одном окне"
   ]
  },
  {
   "cell_type": "code",
   "execution_count": null,
   "id": "1ab53518",
   "metadata": {},
   "outputs": [],
   "source": [
    "f2 = lambda x: 3*x\n",
    "f3 = lambda x: 3*np.exp(-x/10)*np.sin(x) + 5"
   ]
  },
  {
   "cell_type": "code",
   "execution_count": null,
   "id": "bd8d8392",
   "metadata": {},
   "outputs": [],
   "source": [
    "y2 = f2(x)\n",
    "y3 = f3(x)"
   ]
  },
  {
   "cell_type": "code",
   "execution_count": null,
   "id": "cc40521c",
   "metadata": {},
   "outputs": [],
   "source": [
    "plt.xlim(0, 25)\n",
    "plt.ylim(0, 50)\n",
    "plt.plot(x, y, x, y2, x, y3)"
   ]
  },
  {
   "cell_type": "markdown",
   "id": "785e1756",
   "metadata": {},
   "source": [
    "Создадим функцию для построения спирали в полярных координатах"
   ]
  },
  {
   "cell_type": "code",
   "execution_count": null,
   "id": "27899a7c",
   "metadata": {},
   "outputs": [],
   "source": [
    "r = np.arange(0, 2, 0.01)\n",
    "theta = 2 * np.pi * r\n",
    "\n",
    "fig, ax = plt.subplots(subplot_kw={'projection': 'polar'})\n",
    "ax.plot(theta, r)\n",
    "ax.set_rmax(2)\n",
    "ax.set_rticks([0.5, 1, 1.5, 2])  # Less radial ticks\n",
    "ax.set_rlabel_position(-22.5)  # Move radial labels away from plotted line\n",
    "ax.grid(True)\n",
    "\n",
    "plt.show()"
   ]
  },
  {
   "cell_type": "markdown",
   "id": "89562bc5",
   "metadata": {},
   "source": [
    "### To-do отредактировать код"
   ]
  },
  {
   "cell_type": "markdown",
   "id": "edbec4d4",
   "metadata": {},
   "source": [
    "# Задание 4"
   ]
  },
  {
   "cell_type": "code",
   "execution_count": null,
   "id": "fc94cc6e",
   "metadata": {},
   "outputs": [],
   "source": [
    "fig, ax = plt.subplots(subplot_kw={\"projection\": \"3d\"})\n",
    "\n",
    "X = np.arange(-5, 5, 0.25)\n",
    "Y = np.arange(-5, 5, 0.25)\n",
    "X, Y = np.meshgrid(X, Y)\n",
    "Z = X**3 + 3*X*Y**2 - 15*X - 12*Y\n",
    "\n",
    "surf = ax.plot_surface(X, Y, Z)\n",
    "surf"
   ]
  },
  {
   "cell_type": "code",
   "execution_count": null,
   "id": "b61778e2",
   "metadata": {},
   "outputs": [],
   "source": [
    "fig, ax = plt.subplots()\n",
    "\n",
    "ax.contour(X, Y, Z)"
   ]
  },
  {
   "cell_type": "code",
   "execution_count": null,
   "id": "432b4f63",
   "metadata": {},
   "outputs": [],
   "source": [
    "def f():\n",
    "    r = 1\n",
    "    tht = np.linspace(1, 10* np.pi, 1000)\n",
    "    x = r * np.cos(tht)\n",
    "    y = r * np.sin(tht)\n",
    "    z = np.log(tht)\n",
    "    return (x, y, z)\n",
    "\n",
    "X, Y, Z = f()\n",
    "\n",
    "fig = plt.figure()\n",
    "ax  = fig.add_subplot(projection='3d')\n",
    "ax.plot(X, Y, Z)\n",
    "\n",
    "plt.show()"
   ]
  },
  {
   "cell_type": "markdown",
   "id": "201bc9f2",
   "metadata": {},
   "source": [
    "## To-do: добавить описание"
   ]
  },
  {
   "cell_type": "markdown",
   "id": "c520c2b4",
   "metadata": {},
   "source": [
    "# Задание 5"
   ]
  },
  {
   "cell_type": "code",
   "execution_count": null,
   "id": "d7094dba",
   "metadata": {},
   "outputs": [],
   "source": [
    "from sympy import *\n",
    "from sympy.plotting import plot"
   ]
  },
  {
   "cell_type": "code",
   "execution_count": null,
   "id": "5541bbdb",
   "metadata": {},
   "outputs": [],
   "source": [
    "x, y = symbols('x y')\n",
    "#init_printing(use_unicode=True)"
   ]
  },
  {
   "cell_type": "markdown",
   "id": "aef37001",
   "metadata": {},
   "source": [
    "Пусть имеется функция \n",
    "$f(x) = x^{2}*\\sin{(2x)}*e^{-x}$<br>\n",
    "Найдем её производную и первообразную"
   ]
  },
  {
   "cell_type": "code",
   "execution_count": null,
   "id": "1a181ff1",
   "metadata": {},
   "outputs": [],
   "source": [
    "f = x**2 * sin(2*x) * exp(-x)"
   ]
  },
  {
   "cell_type": "code",
   "execution_count": null,
   "id": "cfbbd372",
   "metadata": {},
   "outputs": [],
   "source": [
    "df_dx = diff(f(x), x)\n",
    "df_dx"
   ]
  },
  {
   "cell_type": "code",
   "execution_count": null,
   "id": "2734e33d",
   "metadata": {},
   "outputs": [],
   "source": [
    "F = integrate(f(x), x)\n",
    "F"
   ]
  },
  {
   "cell_type": "code",
   "execution_count": null,
   "id": "4c0c5072",
   "metadata": {},
   "outputs": [],
   "source": [
    "Теперь построим графики"
   ]
  },
  {
   "cell_type": "code",
   "execution_count": null,
   "id": "44667ea3",
   "metadata": {},
   "outputs": [],
   "source": [
    "plot(f, df_dx, F)"
   ]
  },
  {
   "cell_type": "markdown",
   "id": "78a2cd24",
   "metadata": {},
   "source": [
    "## To-do: Мб допилить график?"
   ]
  }
 ],
 "metadata": {
  "kernelspec": {
   "display_name": "Python 3 (ipykernel)",
   "language": "python",
   "name": "python3"
  },
  "language_info": {
   "codemirror_mode": {
    "name": "ipython",
    "version": 3
   },
   "file_extension": ".py",
   "mimetype": "text/x-python",
   "name": "python",
   "nbconvert_exporter": "python",
   "pygments_lexer": "ipython3",
   "version": "3.11.2"
  }
 },
 "nbformat": 4,
 "nbformat_minor": 5
}
