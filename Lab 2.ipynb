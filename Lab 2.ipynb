{
 "cells": [
  {
   "cell_type": "markdown",
   "id": "0b4b2cc5",
   "metadata": {},
   "source": [
    "# Лабораторная работа 1.2"
   ]
  },
  {
   "cell_type": "markdown",
   "id": "6e65b632",
   "metadata": {},
   "source": [
    "## Задание 1"
   ]
  },
  {
   "cell_type": "code",
   "execution_count": 2,
   "id": "3228532a",
   "metadata": {},
   "outputs": [],
   "source": [
    "import numpy as np"
   ]
  },
  {
   "cell_type": "code",
   "execution_count": 6,
   "id": "d9df8550",
   "metadata": {},
   "outputs": [],
   "source": [
    "def create_A(N):\n",
    "    matrix = list()\n",
    "    for i in range(N):\n",
    "        for j in range(N):\n",
    "            if j == 0:\n",
    "                matrix.append([])\n",
    "            matrix[i].append(float(input(f\"Введите элемент {i + 1} - {j + 1} матрицы A: \")))\n",
    "    return matrix"
   ]
  },
  {
   "cell_type": "code",
   "execution_count": 7,
   "id": "0dfe4e8c",
   "metadata": {},
   "outputs": [],
   "source": [
    "def create_b(N):\n",
    "    vector = list()\n",
    "    for i in range(N):\n",
    "        vector.append(float(input(f\"Введите элемент {i} вектора b: \")))\n",
    "    return vector"
   ]
  },
  {
   "cell_type": "code",
   "execution_count": 8,
   "id": "36bb4d0d",
   "metadata": {},
   "outputs": [],
   "source": [
    "def solve(A, b):\n",
    "    return np.linalg.solve(A, b)"
   ]
  },
  {
   "cell_type": "code",
   "execution_count": 9,
   "id": "ac1a8a8a",
   "metadata": {},
   "outputs": [],
   "source": [
    "def check_solution(A, x, b):\n",
    "    return np.allclose(A@x, b)"
   ]
  },
  {
   "cell_type": "markdown",
   "id": "f6f5cdf0",
   "metadata": {},
   "source": [
    "Пусть имеется система линейных алгебраических уравнений<br>\n",
    "$ 3x+2y+z=4$<br>\n",
    "$ 5x-5y+4z=3$<br>\n",
    "$ 6x+z=0$<br>\n",
    "Найдём вектор решений"
   ]
  },
  {
   "cell_type": "code",
   "execution_count": 10,
   "id": "43ac85da",
   "metadata": {},
   "outputs": [
    {
     "name": "stdout",
     "output_type": "stream",
     "text": [
      "Введите элемент 1 - 1 матрицы A: 3\n",
      "Введите элемент 1 - 2 матрицы A: 2\n",
      "Введите элемент 1 - 3 матрицы A: 1\n",
      "Введите элемент 2 - 1 матрицы A: 5\n",
      "Введите элемент 2 - 2 матрицы A: -5\n",
      "Введите элемент 2 - 3 матрицы A: 4\n",
      "Введите элемент 3 - 1 матрицы A: 6\n",
      "Введите элемент 3 - 2 матрицы A: 0\n",
      "Введите элемент 3 - 3 матрицы A: 1\n",
      "Введите элемент 0 вектора b: 4\n",
      "Введите элемент 1 вектора b: 3\n",
      "Введите элемент 2 вектора b: 0\n"
     ]
    }
   ],
   "source": [
    "A = np.array(create_A(3))\n",
    "b = np.array(create_b(3))\n",
    "x = solve(A, b)"
   ]
  },
  {
   "cell_type": "code",
   "execution_count": 11,
   "id": "46178779",
   "metadata": {},
   "outputs": [],
   "source": [
    "print('x:', x)\n",
    "print('Solution is Correct:', check_solution(A, x, b))"
   ]
  },
  {
   "cell_type": "markdown",
   "id": "d6469570",
   "metadata": {},
   "source": [
    "### To-do: Вычислить невязку"
   ]
  },
  {
   "cell_type": "markdown",
   "id": "81d124e1",
   "metadata": {},
   "source": [
    "## Задание 2"
   ]
  },
  {
   "cell_type": "code",
   "execution_count": 12,
   "id": "1fb15a4b",
   "metadata": {},
   "outputs": [],
   "source": [
    "matrix = np.loadtxt('./matrix.csv', dtype='int', delimiter=';')"
   ]
  },
  {
   "cell_type": "code",
   "execution_count": 13,
   "id": "964c1ffe",
   "metadata": {},
   "outputs": [],
   "source": [
    "matrix_transported = matrix.T"
   ]
  },
  {
   "cell_type": "code",
   "execution_count": 14,
   "id": "2f7fa962",
   "metadata": {},
   "outputs": [],
   "source": [
    "np.savetxt('./output.csv', matrix_transported, delimiter=';')"
   ]
  },
  {
   "cell_type": "markdown",
   "id": "266f3755",
   "metadata": {},
   "source": [
    "### To-do: пофиксить экспоненциальный формат чисел в выходном файле"
   ]
  },
  {
   "cell_type": "markdown",
   "id": "0c41d0ed",
   "metadata": {},
   "source": [
    "## Задание 3"
   ]
  },
  {
   "cell_type": "markdown",
   "id": "a4ba752d",
   "metadata": {},
   "source": [
    "Пусть имеется полином \n",
    "$f(x) = x^{3} + 2x^{2} - 5x - 6$<br>\n",
    "Построим его график инструментами matplotlib"
   ]
  },
  {
   "cell_type": "code",
   "execution_count": 15,
   "id": "0b9b116c",
   "metadata": {},
   "outputs": [],
   "source": [
    "f = lambda x: x**3 + 2*x**2 - 5*x - 6"
   ]
  },
  {
   "cell_type": "code",
   "execution_count": 16,
   "id": "b738dfad",
   "metadata": {},
   "outputs": [],
   "source": [
    "x = np.linspace(0, 100, 10000)\n",
    "y = f(x)"
   ]
  },
  {
   "cell_type": "code",
   "execution_count": 17,
   "id": "33fc98d4",
   "metadata": {},
   "outputs": [],
   "source": [
    "plt.plot(x, y)"
   ]
  },
  {
   "cell_type": "markdown",
   "id": "206c0934",
   "metadata": {},
   "source": [
    "Найдем корни полинома $f(x)$."
   ]
  },
  {
   "cell_type": "code",
   "execution_count": 18,
   "id": "bb18377b",
   "metadata": {},
   "outputs": [],
   "source": [
    "coeff = [1, 2, -5, -6]\n",
    "np.roots(coeff)"
   ]
  },
  {
   "cell_type": "markdown",
   "id": "973546e5",
   "metadata": {},
   "source": [
    "Теперь для демонстрации возможностей библиотеки построим несколько графиков в одном окне"
   ]
  },
  {
   "cell_type": "code",
   "execution_count": 19,
   "id": "1ab53518",
   "metadata": {},
   "outputs": [],
   "source": [
    "f2 = lambda x: 3*x\n",
    "f3 = lambda x: 3*np.exp(-x/10)*np.sin(x) + 5"
   ]
  },
  {
   "cell_type": "code",
   "execution_count": 20,
   "id": "bd8d8392",
   "metadata": {},
   "outputs": [],
   "source": [
    "y2 = f2(x)\n",
    "y3 = f3(x)"
   ]
  },
  {
   "cell_type": "code",
   "execution_count": 21,
   "id": "cc40521c",
   "metadata": {},
   "outputs": [],
   "source": [
    "plt.xlim(0, 25)\n",
    "plt.ylim(0, 50)\n",
    "plt.plot(x, y, x, y2, x, y3)"
   ]
  },
  {
   "cell_type": "markdown",
   "id": "785e1756",
   "metadata": {},
   "source": [
    "Создадим функцию для построения спирали в полярных координатах"
   ]
  },
  {
   "cell_type": "code",
   "execution_count": 3,
   "id": "a409905b",
   "metadata": {},
   "outputs": [],
   "source": [
    "import matplotlib.pyplot as plt\n",
    "from ipywidgets import *"
   ]
  },
  {
   "cell_type": "code",
   "execution_count": 4,
   "id": "27899a7c",
   "metadata": {},
   "outputs": [
    {
     "data": {
      "text/plain": [
       "<module 'matplotlib.pyplot' from 'C:\\\\Users\\\\Sp1r14ual\\\\AppData\\\\Local\\\\Programs\\\\Python\\\\Python311\\\\Lib\\\\site-packages\\\\matplotlib\\\\pyplot.py'>"
      ]
     },
     "execution_count": 4,
     "metadata": {},
     "output_type": "execute_result"
    },
    {
     "data": {
      "image/png": "[encoded data removed]",
      "text/plain": [
       "<Figure size 640x480 with 1 Axes>"
      ]
     },
     "metadata": {},
     "output_type": "display_data"
    }
   ],
   "source": [
    "r = np.arange(0, 2, 0.01)\n",
    "theta = 2 * np.pi * r\n",
    "\n",
    "fig, ax = plt.subplots(subplot_kw={'projection': 'polar'})\n",
    "ax.plot(theta, r)\n",
    "ax.set_rmax(2)\n",
    "ax.set_rticks([0.5, 1, 1.5, 2])  # Less radial ticks\n",
    "ax.set_rlabel_position(-22.5)  # Move radial labels away from plotted line\n",
    "ax.grid(True)\n",
    "\n",
    "plt"
   ]
  },
  {
   "cell_type": "markdown",
   "id": "21d84c81",
   "metadata": {},
   "source": [
    "Таким же образом можно создать спираль с динамическими параметрами"
   ]
  },
  {
   "cell_type": "code",
   "execution_count": 7,
   "id": "2f9b6a7e",
   "metadata": {},
   "outputs": [
    {
     "data": {
      "application/vnd.jupyter.widget-view+json": {
       "model_id": "7db99e0240d14f6c899b8be0045cbd35",
       "version_major": 2,
       "version_minor": 0
      },
      "text/plain": [
       "interactive(children=(IntSlider(value=1180, description='theta', max=2000, min=360), IntSlider(value=10, descr…"
      ]
     },
     "execution_count": 7,
     "metadata": {},
     "output_type": "execute_result"
    }
   ],
   "source": [
    "def f(theta,radius):\n",
    "    r = np.linspace(0,radius, 360)\n",
    "    t = np.linspace(0, theta, 360)\n",
    "    x = r*np.cos(np.radians(t))\n",
    "    y = r*np.sin(np.radians(t))\n",
    "    plt.plot(x,y)\n",
    "    plt.axis('equal')\n",
    "    \n",
    "interactive_plot = interactive(f, theta=(360, 2000), radius=(1,20))\n",
    "interactive_plot"
   ]
  },
  {
   "cell_type": "markdown",
   "id": "a150aa0a",
   "metadata": {},
   "source": [
    "# Задание 4"
   ]
  },
  {
   "cell_type": "code",
   "execution_count": null,
   "id": "01ed854c",
   "metadata": {},
   "outputs": [],
   "source": []
  }
 ],
 "metadata": {
  "kernelspec": {
   "display_name": "Python 3 (ipykernel)",
   "language": "python",
   "name": "python3"
  },
  "language_info": {
   "codemirror_mode": {
    "name": "ipython",
    "version": 3
   },
   "file_extension": ".py",
   "mimetype": "text/x-python",
   "name": "python",
   "nbconvert_exporter": "python",
   "pygments_lexer": "ipython3",
   "version": "3.11.2"
  }
 },
 "nbformat": 4,
 "nbformat_minor": 5
}
